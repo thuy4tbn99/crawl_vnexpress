{
 "cells": [
  {
   "cell_type": "markdown",
   "metadata": {},
   "source": [
    "THIS IS FILE TO GET LINK PAPER -> EXPORT.CSV"
   ]
  },
  {
   "cell_type": "code",
   "execution_count": 1,
   "metadata": {},
   "outputs": [],
   "source": [
    "import pandas as pd"
   ]
  },
  {
   "cell_type": "code",
   "execution_count": 2,
   "metadata": {},
   "outputs": [
    {
     "name": "stdout",
     "output_type": "stream",
     "text": [
      ".\t\t    article.csv\t\t   link_article.csv  user_comment.csv\r\n",
      "..\t\t    comment_article.csv    scrapy.cfg\t     vnexpress\r\n",
      ".ipynb_checkpoints  extract_itemcsv.ipynb  userID.csv\r\n"
     ]
    }
   ],
   "source": [
    "!ls -a"
   ]
  },
  {
   "cell_type": "code",
   "execution_count": 3,
   "metadata": {},
   "outputs": [],
   "source": [
    "items = pd.read_csv('./article.csv')"
   ]
  },
  {
   "cell_type": "code",
   "execution_count": 4,
   "metadata": {},
   "outputs": [
    {
     "data": {
      "text/html": [
       "<div>\n",
       "<style scoped>\n",
       "    .dataframe tbody tr th:only-of-type {\n",
       "        vertical-align: middle;\n",
       "    }\n",
       "\n",
       "    .dataframe tbody tr th {\n",
       "        vertical-align: top;\n",
       "    }\n",
       "\n",
       "    .dataframe thead th {\n",
       "        text-align: right;\n",
       "    }\n",
       "</style>\n",
       "<table border=\"1\" class=\"dataframe\">\n",
       "  <thead>\n",
       "    <tr style=\"text-align: right;\">\n",
       "      <th></th>\n",
       "      <th>category</th>\n",
       "      <th>title</th>\n",
       "      <th>body</th>\n",
       "      <th>date</th>\n",
       "      <th>tags</th>\n",
       "      <th>link</th>\n",
       "    </tr>\n",
       "  </thead>\n",
       "  <tbody>\n",
       "    <tr>\n",
       "      <th>0</th>\n",
       "      <td>Thời sự,Giao thông</td>\n",
       "      <td>Ôtô rơi xuống vực, ba người chết</td>\n",
       "      <td>Hà Giang,Xe Uaz rơi xuống vực sâu khoảng 100 m...</td>\n",
       "      <td>Chủ nhật, 8/11/2020, 21:50 (GMT+7)</td>\n",
       "      <td>xe rơi xuống vực, hà giang, xe uaz, tai nạn gi...</td>\n",
       "      <td>https://vnexpress.net/oto-roi-xuong-vuc-ba-ngu...</td>\n",
       "    </tr>\n",
       "    <tr>\n",
       "      <th>1</th>\n",
       "      <td>Thời sự</td>\n",
       "      <td>Tàu hàng chìm trên biển</td>\n",
       "      <td>Quảng Nam,Tàu trọng tải 5.300 tấn chở hàng từ ...</td>\n",
       "      <td>Thứ bảy, 7/11/2020, 11:35 (GMT+7)</td>\n",
       "      <td>tàu hàng, chìm trên biển, quảng nam, cảnh sát ...</td>\n",
       "      <td>https://vnexpress.net/tau-hang-chim-tren-bien-...</td>\n",
       "    </tr>\n",
       "    <tr>\n",
       "      <th>2</th>\n",
       "      <td>Thời sự</td>\n",
       "      <td>TP HCM sẽ lắp hệ thống điện mặt trời tại trụ s...</td>\n",
       "      <td>Mái các trụ sở cơ quan hành chính, đơn vị sự n...</td>\n",
       "      <td>Thứ bảy, 7/11/2020, 11:40 (GMT+7)</td>\n",
       "      <td>điện mặt trời, lắp điện mặt trời ở trụ sở công...</td>\n",
       "      <td>https://vnexpress.net/tp-hcm-se-lap-he-thong-d...</td>\n",
       "    </tr>\n",
       "    <tr>\n",
       "      <th>3</th>\n",
       "      <td>Thời sự</td>\n",
       "      <td>Những 'tương lai' trôi theo dòng nước bạc</td>\n",
       "      <td>Ngồi bên đứa con khuyết tật, bà Tỏa rầu rĩ. Cá...</td>\n",
       "      <td>Thứ bảy, 7/11/2020, 14:03 (GMT+7)</td>\n",
       "      <td>chung tay vì miền trung, lũ lụt, bão, quỹ hy v...</td>\n",
       "      <td>https://vnexpress.net/nhung-tuong-lai-troi-the...</td>\n",
       "    </tr>\n",
       "    <tr>\n",
       "      <th>4</th>\n",
       "      <td>Thời sự</td>\n",
       "      <td>Đề xuất đưa đàn khỉ ở Toà thánh Tây Ninh về rừng</td>\n",
       "      <td>Hơn 150 con khỉ đang sống trong nội ô Tòa thán...</td>\n",
       "      <td>Thứ bảy, 7/11/2020, 10:23 (GMT+7)</td>\n",
       "      <td>khỉ tấn công, đàn khỉ hung dữ, di dời khỉ khỏi...</td>\n",
       "      <td>https://vnexpress.net/de-xuat-dua-dan-khi-o-to...</td>\n",
       "    </tr>\n",
       "    <tr>\n",
       "      <th>...</th>\n",
       "      <td>...</td>\n",
       "      <td>...</td>\n",
       "      <td>...</td>\n",
       "      <td>...</td>\n",
       "      <td>...</td>\n",
       "      <td>...</td>\n",
       "    </tr>\n",
       "    <tr>\n",
       "      <th>120</th>\n",
       "      <td>Thời sự,Giao thông</td>\n",
       "      <td>Người đốt giấy trên máy bay bị phạt 2 triệu đồng</td>\n",
       "      <td>Nam hành khách đốt giấy ăn trên máy bay Vietna...</td>\n",
       "      <td>Thứ ba, 3/11/2020, 14:40 (GMT+7)</td>\n",
       "      <td>hành khách, xử phạt, đốt lửa trên máy bay, đốt...</td>\n",
       "      <td>https://vnexpress.net/nguoi-dot-giay-tren-may-...</td>\n",
       "    </tr>\n",
       "    <tr>\n",
       "      <th>121</th>\n",
       "      <td>Thời sự</td>\n",
       "      <td>Miền Trung nhiều 'thương tích' trước bão Goni</td>\n",
       "      <td>Vừa trải qua lũ lụt lịch sử và sạt lở đất liên...</td>\n",
       "      <td>Thứ ba, 3/11/2020, 15:35 (GMT+7)</td>\n",
       "      <td>miền trung, bão goni, nghệ an, hà tĩnh, quảng ...</td>\n",
       "      <td>https://vnexpress.net/mien-trung-nhieu-thuong-...</td>\n",
       "    </tr>\n",
       "    <tr>\n",
       "      <th>122</th>\n",
       "      <td>Thời sự</td>\n",
       "      <td>Ba ngư dân tàu chìm 'ăn xốp, uống nước biển' đ...</td>\n",
       "      <td>Khánh Hòa,Hơn hai ngày ôm bè gỗ lênh đênh trên...</td>\n",
       "      <td>Thứ ba, 3/11/2020, 16:32 (GMT+7)</td>\n",
       "      <td>tàu cá bình định, bão số 9, ba ngư dân chìm tà...</td>\n",
       "      <td>https://vnexpress.net/ba-ngu-dan-tau-chim-an-x...</td>\n",
       "    </tr>\n",
       "    <tr>\n",
       "      <th>123</th>\n",
       "      <td>Thời sự</td>\n",
       "      <td>TP HCM đặt mục tiêu thu ngân sách 344.000 tỷ đồng</td>\n",
       "      <td>Do ảnh hưởng Covid-19, TP HCM phấn đấu thu ngâ...</td>\n",
       "      <td>Thứ ba, 3/11/2020, 17:02 (GMT+7)</td>\n",
       "      <td>thu ngân sách, ngân sách tp hcm, covid-19</td>\n",
       "      <td>https://vnexpress.net/tp-hcm-dat-muc-tieu-thu-...</td>\n",
       "    </tr>\n",
       "    <tr>\n",
       "      <th>124</th>\n",
       "      <td>Thời sự,Chính trị</td>\n",
       "      <td>Quốc hội bãi nhiệm đại biểu Phạm Phú Quốc</td>\n",
       "      <td>Quốc hội bãi nhiệm đại biểu đối với ông Phạm P...</td>\n",
       "      <td>Thứ ba, 3/11/2020, 17:09 (GMT+7)</td>\n",
       "      <td>đại biểu phạm phú quốc bị bãi nhiệm, ông phạm ...</td>\n",
       "      <td>https://vnexpress.net/quoc-hoi-bai-nhiem-dai-b...</td>\n",
       "    </tr>\n",
       "  </tbody>\n",
       "</table>\n",
       "<p>125 rows × 6 columns</p>\n",
       "</div>"
      ],
      "text/plain": [
       "               category                                              title  \\\n",
       "0    Thời sự,Giao thông                   Ôtô rơi xuống vực, ba người chết   \n",
       "1               Thời sự                            Tàu hàng chìm trên biển   \n",
       "2               Thời sự  TP HCM sẽ lắp hệ thống điện mặt trời tại trụ s...   \n",
       "3               Thời sự          Những 'tương lai' trôi theo dòng nước bạc   \n",
       "4               Thời sự   Đề xuất đưa đàn khỉ ở Toà thánh Tây Ninh về rừng   \n",
       "..                  ...                                                ...   \n",
       "120  Thời sự,Giao thông   Người đốt giấy trên máy bay bị phạt 2 triệu đồng   \n",
       "121             Thời sự      Miền Trung nhiều 'thương tích' trước bão Goni   \n",
       "122             Thời sự  Ba ngư dân tàu chìm 'ăn xốp, uống nước biển' đ...   \n",
       "123             Thời sự  TP HCM đặt mục tiêu thu ngân sách 344.000 tỷ đồng   \n",
       "124   Thời sự,Chính trị          Quốc hội bãi nhiệm đại biểu Phạm Phú Quốc   \n",
       "\n",
       "                                                  body  \\\n",
       "0    Hà Giang,Xe Uaz rơi xuống vực sâu khoảng 100 m...   \n",
       "1    Quảng Nam,Tàu trọng tải 5.300 tấn chở hàng từ ...   \n",
       "2    Mái các trụ sở cơ quan hành chính, đơn vị sự n...   \n",
       "3    Ngồi bên đứa con khuyết tật, bà Tỏa rầu rĩ. Cá...   \n",
       "4    Hơn 150 con khỉ đang sống trong nội ô Tòa thán...   \n",
       "..                                                 ...   \n",
       "120  Nam hành khách đốt giấy ăn trên máy bay Vietna...   \n",
       "121  Vừa trải qua lũ lụt lịch sử và sạt lở đất liên...   \n",
       "122  Khánh Hòa,Hơn hai ngày ôm bè gỗ lênh đênh trên...   \n",
       "123  Do ảnh hưởng Covid-19, TP HCM phấn đấu thu ngâ...   \n",
       "124  Quốc hội bãi nhiệm đại biểu đối với ông Phạm P...   \n",
       "\n",
       "                                   date  \\\n",
       "0    Chủ nhật, 8/11/2020, 21:50 (GMT+7)   \n",
       "1     Thứ bảy, 7/11/2020, 11:35 (GMT+7)   \n",
       "2     Thứ bảy, 7/11/2020, 11:40 (GMT+7)   \n",
       "3     Thứ bảy, 7/11/2020, 14:03 (GMT+7)   \n",
       "4     Thứ bảy, 7/11/2020, 10:23 (GMT+7)   \n",
       "..                                  ...   \n",
       "120    Thứ ba, 3/11/2020, 14:40 (GMT+7)   \n",
       "121    Thứ ba, 3/11/2020, 15:35 (GMT+7)   \n",
       "122    Thứ ba, 3/11/2020, 16:32 (GMT+7)   \n",
       "123    Thứ ba, 3/11/2020, 17:02 (GMT+7)   \n",
       "124    Thứ ba, 3/11/2020, 17:09 (GMT+7)   \n",
       "\n",
       "                                                  tags  \\\n",
       "0    xe rơi xuống vực, hà giang, xe uaz, tai nạn gi...   \n",
       "1    tàu hàng, chìm trên biển, quảng nam, cảnh sát ...   \n",
       "2    điện mặt trời, lắp điện mặt trời ở trụ sở công...   \n",
       "3    chung tay vì miền trung, lũ lụt, bão, quỹ hy v...   \n",
       "4    khỉ tấn công, đàn khỉ hung dữ, di dời khỉ khỏi...   \n",
       "..                                                 ...   \n",
       "120  hành khách, xử phạt, đốt lửa trên máy bay, đốt...   \n",
       "121  miền trung, bão goni, nghệ an, hà tĩnh, quảng ...   \n",
       "122  tàu cá bình định, bão số 9, ba ngư dân chìm tà...   \n",
       "123          thu ngân sách, ngân sách tp hcm, covid-19   \n",
       "124  đại biểu phạm phú quốc bị bãi nhiệm, ông phạm ...   \n",
       "\n",
       "                                                  link  \n",
       "0    https://vnexpress.net/oto-roi-xuong-vuc-ba-ngu...  \n",
       "1    https://vnexpress.net/tau-hang-chim-tren-bien-...  \n",
       "2    https://vnexpress.net/tp-hcm-se-lap-he-thong-d...  \n",
       "3    https://vnexpress.net/nhung-tuong-lai-troi-the...  \n",
       "4    https://vnexpress.net/de-xuat-dua-dan-khi-o-to...  \n",
       "..                                                 ...  \n",
       "120  https://vnexpress.net/nguoi-dot-giay-tren-may-...  \n",
       "121  https://vnexpress.net/mien-trung-nhieu-thuong-...  \n",
       "122  https://vnexpress.net/ba-ngu-dan-tau-chim-an-x...  \n",
       "123  https://vnexpress.net/tp-hcm-dat-muc-tieu-thu-...  \n",
       "124  https://vnexpress.net/quoc-hoi-bai-nhiem-dai-b...  \n",
       "\n",
       "[125 rows x 6 columns]"
      ]
     },
     "execution_count": 4,
     "metadata": {},
     "output_type": "execute_result"
    }
   ],
   "source": [
    "items"
   ]
  },
  {
   "cell_type": "code",
   "execution_count": 5,
   "metadata": {},
   "outputs": [],
   "source": [
    "df_link = items['link']\n",
    "df_link.to_csv(r'./link_article.csv', index= False, header = False)"
   ]
  },
  {
   "cell_type": "code",
   "execution_count": 8,
   "metadata": {},
   "outputs": [
    {
     "name": "stdout",
     "output_type": "stream",
     "text": [
      "0      https://vnexpress.net/oto-roi-xuong-vuc-ba-ngu...\n",
      "1      https://vnexpress.net/tau-hang-chim-tren-bien-...\n",
      "2      https://vnexpress.net/tp-hcm-se-lap-he-thong-d...\n",
      "3      https://vnexpress.net/nhung-tuong-lai-troi-the...\n",
      "4      https://vnexpress.net/de-xuat-dua-dan-khi-o-to...\n",
      "                             ...                        \n",
      "120    https://vnexpress.net/nguoi-dot-giay-tren-may-...\n",
      "121    https://vnexpress.net/mien-trung-nhieu-thuong-...\n",
      "122    https://vnexpress.net/ba-ngu-dan-tau-chim-an-x...\n",
      "123    https://vnexpress.net/tp-hcm-dat-muc-tieu-thu-...\n",
      "124    https://vnexpress.net/quoc-hoi-bai-nhiem-dai-b...\n",
      "Name: link, Length: 125, dtype: object\n"
     ]
    }
   ],
   "source": [
    "print(df_link)"
   ]
  },
  {
   "cell_type": "code",
   "execution_count": 9,
   "metadata": {},
   "outputs": [],
   "source": [
    "comment_data = pd.read_csv('./comment_article.csv')"
   ]
  },
  {
   "cell_type": "code",
   "execution_count": 21,
   "metadata": {},
   "outputs": [
    {
     "data": {
      "text/html": [
       "<div>\n",
       "<style scoped>\n",
       "    .dataframe tbody tr th:only-of-type {\n",
       "        vertical-align: middle;\n",
       "    }\n",
       "\n",
       "    .dataframe tbody tr th {\n",
       "        vertical-align: top;\n",
       "    }\n",
       "\n",
       "    .dataframe thead th {\n",
       "        text-align: right;\n",
       "    }\n",
       "</style>\n",
       "<table border=\"1\" class=\"dataframe\">\n",
       "  <thead>\n",
       "    <tr style=\"text-align: right;\">\n",
       "      <th></th>\n",
       "      <th>articleID</th>\n",
       "      <th>userID</th>\n",
       "      <th>comment</th>\n",
       "      <th>userlike</th>\n",
       "      <th>time</th>\n",
       "    </tr>\n",
       "  </thead>\n",
       "  <tbody>\n",
       "    <tr>\n",
       "      <th>0</th>\n",
       "      <td>4188755</td>\n",
       "      <td>1050507648</td>\n",
       "      <td>Đà Lạt khu du lịch lang biang cũng sử dụng xe ...</td>\n",
       "      <td>86</td>\n",
       "      <td>2h trước</td>\n",
       "    </tr>\n",
       "    <tr>\n",
       "      <th>1</th>\n",
       "      <td>4188755</td>\n",
       "      <td>1004391354</td>\n",
       "      <td>Đường đồng văn mèo vạc hiểm trở mà sao nhóm kh...</td>\n",
       "      <td>42</td>\n",
       "      <td>2h trước</td>\n",
       "    </tr>\n",
       "    <tr>\n",
       "      <th>2</th>\n",
       "      <td>4188755</td>\n",
       "      <td>1045606201</td>\n",
       "      <td>Mấy chiếc xe của Nga này khỏe lắm! Lên dốc chạ...</td>\n",
       "      <td>17</td>\n",
       "      <td>1h trước</td>\n",
       "    </tr>\n",
       "    <tr>\n",
       "      <th>3</th>\n",
       "      <td>4188755</td>\n",
       "      <td>1043033099</td>\n",
       "      <td>Đường dốc bên cạnh là vực thẳm thế này thực sự...</td>\n",
       "      <td>13</td>\n",
       "      <td>2h trước</td>\n",
       "    </tr>\n",
       "    <tr>\n",
       "      <th>4</th>\n",
       "      <td>4188755</td>\n",
       "      <td>1062499400</td>\n",
       "      <td>Nam mô a di Đà phật xin chia buồn cùng với các...</td>\n",
       "      <td>12</td>\n",
       "      <td>2h trước</td>\n",
       "    </tr>\n",
       "    <tr>\n",
       "      <th>5</th>\n",
       "      <td>4188755</td>\n",
       "      <td>1012916750</td>\n",
       "      <td>Labiang nên dùng cáp treo, mình đi xe thấy cực...</td>\n",
       "      <td>3</td>\n",
       "      <td>1h trước</td>\n",
       "    </tr>\n",
       "    <tr>\n",
       "      <th>6</th>\n",
       "      <td>4188755</td>\n",
       "      <td>1049328464</td>\n",
       "      <td>Mỗi lần đi Hà Giang, Tôi chỉ mong thầm là về đ...</td>\n",
       "      <td>3</td>\n",
       "      <td>1h trước</td>\n",
       "    </tr>\n",
       "    <tr>\n",
       "      <th>7</th>\n",
       "      <td>4188755</td>\n",
       "      <td>1049352367</td>\n",
       "      <td>Xe cũ quá rồi, công nghệ lạc hậu, xe có thể mấ...</td>\n",
       "      <td>3</td>\n",
       "      <td>1h trước</td>\n",
       "    </tr>\n",
       "    <tr>\n",
       "      <th>8</th>\n",
       "      <td>4188755</td>\n",
       "      <td>1004631795</td>\n",
       "      <td>Khi quá tự tin vào tay lái cũng là 1 tai họa. ...</td>\n",
       "      <td>2</td>\n",
       "      <td>1h trước</td>\n",
       "    </tr>\n",
       "    <tr>\n",
       "      <th>9</th>\n",
       "      <td>4188755</td>\n",
       "      <td>1059655727</td>\n",
       "      <td>Tháng trước mình mới đi đúng chỗ này ạ, dân lá...</td>\n",
       "      <td>0</td>\n",
       "      <td>32' trước</td>\n",
       "    </tr>\n",
       "    <tr>\n",
       "      <th>10</th>\n",
       "      <td>4188755</td>\n",
       "      <td>1061065441</td>\n",
       "      <td>Đến ạ lái xe, cái đường xuống Bản Mồ là đường ...</td>\n",
       "      <td>0</td>\n",
       "      <td>46' trước</td>\n",
       "    </tr>\n",
       "    <tr>\n",
       "      <th>11</th>\n",
       "      <td>4188755</td>\n",
       "      <td>1061601392</td>\n",
       "      <td>Hy vọng Đà Lạt sẽ không lặp lại thảm cảnh này,...</td>\n",
       "      <td>0</td>\n",
       "      <td>49' trước</td>\n",
       "    </tr>\n",
       "    <tr>\n",
       "      <th>12</th>\n",
       "      <td>4186967</td>\n",
       "      <td>1062413715</td>\n",
       "      <td>Dù không phải người miền Trung, chưa từng tận ...</td>\n",
       "      <td>36</td>\n",
       "      <td>16:04 7/11</td>\n",
       "    </tr>\n",
       "    <tr>\n",
       "      <th>13</th>\n",
       "      <td>4186967</td>\n",
       "      <td>1045115910</td>\n",
       "      <td>Lũ về quét sạch thôn làng&lt;br/&gt;Heo, bò gà vịt m...</td>\n",
       "      <td>22</td>\n",
       "      <td>14:17 7/11</td>\n",
       "    </tr>\n",
       "    <tr>\n",
       "      <th>14</th>\n",
       "      <td>4188304</td>\n",
       "      <td>1046493285</td>\n",
       "      <td>Nếu thuyền trường đeo phao cứu sinh thì chắc c...</td>\n",
       "      <td>22</td>\n",
       "      <td>12:10 7/11</td>\n",
       "    </tr>\n",
       "    <tr>\n",
       "      <th>15</th>\n",
       "      <td>4188304</td>\n",
       "      <td>1013764606</td>\n",
       "      <td>Tại sao những cái tầu to như thế này mà lại kh...</td>\n",
       "      <td>17</td>\n",
       "      <td>12:28 7/11</td>\n",
       "    </tr>\n",
       "    <tr>\n",
       "      <th>16</th>\n",
       "      <td>4188304</td>\n",
       "      <td>1004770025</td>\n",
       "      <td>Hy vọng thuyền trưởng được cứu sống.</td>\n",
       "      <td>16</td>\n",
       "      <td>14:23 7/11</td>\n",
       "    </tr>\n",
       "    <tr>\n",
       "      <th>17</th>\n",
       "      <td>4188304</td>\n",
       "      <td>1003625169</td>\n",
       "      <td>Đau thương nối tiếp những đau thương ! Mong sớ...</td>\n",
       "      <td>14</td>\n",
       "      <td>12:39 7/11</td>\n",
       "    </tr>\n",
       "    <tr>\n",
       "      <th>18</th>\n",
       "      <td>4188296</td>\n",
       "      <td>1032023115</td>\n",
       "      <td>Rất hợp lý, các cơ sở công nên đi đầu trong ch...</td>\n",
       "      <td>208</td>\n",
       "      <td>11:50 7/11</td>\n",
       "    </tr>\n",
       "    <tr>\n",
       "      <th>19</th>\n",
       "      <td>4188296</td>\n",
       "      <td>1043760530</td>\n",
       "      <td>Sau này phần lớn vật liệu năng lượng này bỏ đi...</td>\n",
       "      <td>173</td>\n",
       "      <td>13:07 7/11</td>\n",
       "    </tr>\n",
       "  </tbody>\n",
       "</table>\n",
       "</div>"
      ],
      "text/plain": [
       "    articleID      userID                                            comment  \\\n",
       "0     4188755  1050507648  Đà Lạt khu du lịch lang biang cũng sử dụng xe ...   \n",
       "1     4188755  1004391354  Đường đồng văn mèo vạc hiểm trở mà sao nhóm kh...   \n",
       "2     4188755  1045606201  Mấy chiếc xe của Nga này khỏe lắm! Lên dốc chạ...   \n",
       "3     4188755  1043033099  Đường dốc bên cạnh là vực thẳm thế này thực sự...   \n",
       "4     4188755  1062499400  Nam mô a di Đà phật xin chia buồn cùng với các...   \n",
       "5     4188755  1012916750  Labiang nên dùng cáp treo, mình đi xe thấy cực...   \n",
       "6     4188755  1049328464  Mỗi lần đi Hà Giang, Tôi chỉ mong thầm là về đ...   \n",
       "7     4188755  1049352367  Xe cũ quá rồi, công nghệ lạc hậu, xe có thể mấ...   \n",
       "8     4188755  1004631795  Khi quá tự tin vào tay lái cũng là 1 tai họa. ...   \n",
       "9     4188755  1059655727  Tháng trước mình mới đi đúng chỗ này ạ, dân lá...   \n",
       "10    4188755  1061065441  Đến ạ lái xe, cái đường xuống Bản Mồ là đường ...   \n",
       "11    4188755  1061601392  Hy vọng Đà Lạt sẽ không lặp lại thảm cảnh này,...   \n",
       "12    4186967  1062413715  Dù không phải người miền Trung, chưa từng tận ...   \n",
       "13    4186967  1045115910  Lũ về quét sạch thôn làng<br/>Heo, bò gà vịt m...   \n",
       "14    4188304  1046493285  Nếu thuyền trường đeo phao cứu sinh thì chắc c...   \n",
       "15    4188304  1013764606  Tại sao những cái tầu to như thế này mà lại kh...   \n",
       "16    4188304  1004770025               Hy vọng thuyền trưởng được cứu sống.   \n",
       "17    4188304  1003625169  Đau thương nối tiếp những đau thương ! Mong sớ...   \n",
       "18    4188296  1032023115  Rất hợp lý, các cơ sở công nên đi đầu trong ch...   \n",
       "19    4188296  1043760530  Sau này phần lớn vật liệu năng lượng này bỏ đi...   \n",
       "\n",
       "    userlike        time  \n",
       "0         86    2h trước  \n",
       "1         42    2h trước  \n",
       "2         17    1h trước  \n",
       "3         13    2h trước  \n",
       "4         12    2h trước  \n",
       "5          3    1h trước  \n",
       "6          3    1h trước  \n",
       "7          3    1h trước  \n",
       "8          2    1h trước  \n",
       "9          0   32' trước  \n",
       "10         0   46' trước  \n",
       "11         0   49' trước  \n",
       "12        36  16:04 7/11  \n",
       "13        22  14:17 7/11  \n",
       "14        22  12:10 7/11  \n",
       "15        17  12:28 7/11  \n",
       "16        16  14:23 7/11  \n",
       "17        14  12:39 7/11  \n",
       "18       208  11:50 7/11  \n",
       "19       173  13:07 7/11  "
      ]
     },
     "execution_count": 21,
     "metadata": {},
     "output_type": "execute_result"
    }
   ],
   "source": [
    "comment_data.head(20)"
   ]
  },
  {
   "cell_type": "code",
   "execution_count": 14,
   "metadata": {},
   "outputs": [],
   "source": [
    "df_userID = comment_data['userID']"
   ]
  },
  {
   "cell_type": "code",
   "execution_count": 15,
   "metadata": {},
   "outputs": [
    {
     "data": {
      "text/plain": [
       "0     1050507648\n",
       "1     1004391354\n",
       "2     1045606201\n",
       "3     1043033099\n",
       "4     1062499400\n",
       "         ...    \n",
       "89    1002622622\n",
       "90    1053705576\n",
       "91    1004823886\n",
       "92    1045127236\n",
       "93    1047870353\n",
       "Name: userID, Length: 94, dtype: int64"
      ]
     },
     "execution_count": 15,
     "metadata": {},
     "output_type": "execute_result"
    }
   ],
   "source": [
    "df_userID"
   ]
  },
  {
   "cell_type": "code",
   "execution_count": 16,
   "metadata": {},
   "outputs": [
    {
     "name": "stdout",
     "output_type": "stream",
     "text": [
      "<class 'pandas.core.series.Series'>\n"
     ]
    }
   ],
   "source": [
    "print(type(df_userID))"
   ]
  },
  {
   "cell_type": "code",
   "execution_count": 17,
   "metadata": {},
   "outputs": [],
   "source": [
    "df_userID = df_userID"
   ]
  },
  {
   "cell_type": "code",
   "execution_count": 18,
   "metadata": {},
   "outputs": [],
   "source": [
    "# '%.f' : format loại bỏ dạng .0 ở các số\n",
    "df_userID.to_csv(r'./userID.csv', index = False, header = False, float_format='%.f') \n"
   ]
  },
  {
   "cell_type": "markdown",
   "metadata": {},
   "source": [
    "# handle with user_comment"
   ]
  },
  {
   "cell_type": "code",
   "execution_count": 19,
   "metadata": {},
   "outputs": [],
   "source": [
    "user_comment = pd.read_csv('./user_comment.csv')"
   ]
  },
  {
   "cell_type": "code",
   "execution_count": 20,
   "metadata": {},
   "outputs": [
    {
     "data": {
      "text/html": [
       "<div>\n",
       "<style scoped>\n",
       "    .dataframe tbody tr th:only-of-type {\n",
       "        vertical-align: middle;\n",
       "    }\n",
       "\n",
       "    .dataframe tbody tr th {\n",
       "        vertical-align: top;\n",
       "    }\n",
       "\n",
       "    .dataframe thead th {\n",
       "        text-align: right;\n",
       "    }\n",
       "</style>\n",
       "<table border=\"1\" class=\"dataframe\">\n",
       "  <thead>\n",
       "    <tr style=\"text-align: right;\">\n",
       "      <th></th>\n",
       "      <th>userID</th>\n",
       "      <th>url</th>\n",
       "      <th>comment</th>\n",
       "      <th>articleID</th>\n",
       "      <th>categoryID</th>\n",
       "    </tr>\n",
       "  </thead>\n",
       "  <tbody>\n",
       "    <tr>\n",
       "      <th>0</th>\n",
       "      <td>1050507648</td>\n",
       "      <td>https://vnexpress.net/oto-roi-xuong-vuc-ba-ngu...</td>\n",
       "      <td>Đà Lạt khu du lịch lang biang cũng sử dụng xe ...</td>\n",
       "      <td>4188755</td>\n",
       "      <td>1003459</td>\n",
       "    </tr>\n",
       "    <tr>\n",
       "      <th>1</th>\n",
       "      <td>1050507648</td>\n",
       "      <td>/huy-tran-dau-vi-son-la-chi-co-bon-cau-thu-418...</td>\n",
       "      <td>Xuống hạng 2 ,,1,2,3,,,3,2,1 vậy thôi xuống mà...</td>\n",
       "      <td>4188138</td>\n",
       "      <td>1002568</td>\n",
       "    </tr>\n",
       "    <tr>\n",
       "      <th>2</th>\n",
       "      <td>1050507648</td>\n",
       "      <td>/bau-hien-ha-noi-vo-dich-trong-long-nguoi-ham-...</td>\n",
       "      <td>Nên chấp nhận sự thật ,,, !!</td>\n",
       "      <td>4188732</td>\n",
       "      <td>1002568</td>\n",
       "    </tr>\n",
       "    <tr>\n",
       "      <th>3</th>\n",
       "      <td>1050507648</td>\n",
       "      <td>https://vnexpress.net/loi-danh-may-tai-michiga...</td>\n",
       "      <td>thắng chung cuộc,,,OK,,</td>\n",
       "      <td>4187522</td>\n",
       "      <td>1001002</td>\n",
       "    </tr>\n",
       "    <tr>\n",
       "      <th>4</th>\n",
       "      <td>1050507648</td>\n",
       "      <td>https://vnexpress.net/nguoi-ung-ho-trump-bao-v...</td>\n",
       "      <td>mong Ông Bin thắng ,, mà thắng đứng lại,,,!!!</td>\n",
       "      <td>4185273</td>\n",
       "      <td>1001002</td>\n",
       "    </tr>\n",
       "    <tr>\n",
       "      <th>...</th>\n",
       "      <td>...</td>\n",
       "      <td>...</td>\n",
       "      <td>...</td>\n",
       "      <td>...</td>\n",
       "      <td>...</td>\n",
       "    </tr>\n",
       "    <tr>\n",
       "      <th>668</th>\n",
       "      <td>1032244512</td>\n",
       "      <td>https://vnexpress.net/nghi-pham-lua-tien-gia-d...</td>\n",
       "      <td>Sống trên nỗi đau, mất mát của người khác, làm...</td>\n",
       "      <td>4182207</td>\n",
       "      <td>1001007</td>\n",
       "    </tr>\n",
       "    <tr>\n",
       "      <th>669</th>\n",
       "      <td>1032244512</td>\n",
       "      <td>https://vnexpress.net/so-hoa-nha-hat-tp-hcm-ho...</td>\n",
       "      <td>&amp;nbsp;Cám ơn, ông và nhóm kỹ sư dàng tình cảm ...</td>\n",
       "      <td>4180639</td>\n",
       "      <td>1001005</td>\n",
       "    </tr>\n",
       "    <tr>\n",
       "      <th>670</th>\n",
       "      <td>1032244512</td>\n",
       "      <td>https://vnexpress.net/honda-msx-125-grom-2021-...</td>\n",
       "      <td>Quan trọng là giá khi về đến thế giới mới!</td>\n",
       "      <td>4180666</td>\n",
       "      <td>1001006</td>\n",
       "    </tr>\n",
       "    <tr>\n",
       "      <th>671</th>\n",
       "      <td>1032244512</td>\n",
       "      <td>https://vnexpress.net/don-vi-nau-an-bo-mac-bua...</td>\n",
       "      <td>Đúng là \" làm ăn\", không có hợp đồng hay sao v...</td>\n",
       "      <td>4178956</td>\n",
       "      <td>1003497</td>\n",
       "    </tr>\n",
       "    <tr>\n",
       "      <th>672</th>\n",
       "      <td>1032244512</td>\n",
       "      <td>https://vnexpress.net/trieu-cuong-gay-ngap-tru...</td>\n",
       "      <td>TPHCM không ngập, bạn nhé! Ứ hay đọng nước thô...</td>\n",
       "      <td>4178320</td>\n",
       "      <td>1001005</td>\n",
       "    </tr>\n",
       "  </tbody>\n",
       "</table>\n",
       "<p>673 rows × 5 columns</p>\n",
       "</div>"
      ],
      "text/plain": [
       "         userID                                                url  \\\n",
       "0    1050507648  https://vnexpress.net/oto-roi-xuong-vuc-ba-ngu...   \n",
       "1    1050507648  /huy-tran-dau-vi-son-la-chi-co-bon-cau-thu-418...   \n",
       "2    1050507648  /bau-hien-ha-noi-vo-dich-trong-long-nguoi-ham-...   \n",
       "3    1050507648  https://vnexpress.net/loi-danh-may-tai-michiga...   \n",
       "4    1050507648  https://vnexpress.net/nguoi-ung-ho-trump-bao-v...   \n",
       "..          ...                                                ...   \n",
       "668  1032244512  https://vnexpress.net/nghi-pham-lua-tien-gia-d...   \n",
       "669  1032244512  https://vnexpress.net/so-hoa-nha-hat-tp-hcm-ho...   \n",
       "670  1032244512  https://vnexpress.net/honda-msx-125-grom-2021-...   \n",
       "671  1032244512  https://vnexpress.net/don-vi-nau-an-bo-mac-bua...   \n",
       "672  1032244512  https://vnexpress.net/trieu-cuong-gay-ngap-tru...   \n",
       "\n",
       "                                               comment  articleID  categoryID  \n",
       "0    Đà Lạt khu du lịch lang biang cũng sử dụng xe ...    4188755     1003459  \n",
       "1    Xuống hạng 2 ,,1,2,3,,,3,2,1 vậy thôi xuống mà...    4188138     1002568  \n",
       "2                         Nên chấp nhận sự thật ,,, !!    4188732     1002568  \n",
       "3                              thắng chung cuộc,,,OK,,    4187522     1001002  \n",
       "4        mong Ông Bin thắng ,, mà thắng đứng lại,,,!!!    4185273     1001002  \n",
       "..                                                 ...        ...         ...  \n",
       "668  Sống trên nỗi đau, mất mát của người khác, làm...    4182207     1001007  \n",
       "669  &nbsp;Cám ơn, ông và nhóm kỹ sư dàng tình cảm ...    4180639     1001005  \n",
       "670         Quan trọng là giá khi về đến thế giới mới!    4180666     1001006  \n",
       "671  Đúng là \" làm ăn\", không có hợp đồng hay sao v...    4178956     1003497  \n",
       "672  TPHCM không ngập, bạn nhé! Ứ hay đọng nước thô...    4178320     1001005  \n",
       "\n",
       "[673 rows x 5 columns]"
      ]
     },
     "execution_count": 20,
     "metadata": {},
     "output_type": "execute_result"
    }
   ],
   "source": [
    "user_comment"
   ]
  },
  {
   "cell_type": "markdown",
   "metadata": {},
   "source": [
    "## format date test"
   ]
  },
  {
   "cell_type": "code",
   "execution_count": 42,
   "metadata": {},
   "outputs": [],
   "source": [
    "cmt_time = comment_data['time'].head(20)"
   ]
  },
  {
   "cell_type": "code",
   "execution_count": 43,
   "metadata": {},
   "outputs": [
    {
     "data": {
      "text/plain": [
       "0       2h trước\n",
       "1       2h trước\n",
       "2       1h trước\n",
       "3       2h trước\n",
       "4       2h trước\n",
       "5       1h trước\n",
       "6       1h trước\n",
       "7       1h trước\n",
       "8       1h trước\n",
       "9      32' trước\n",
       "10     46' trước\n",
       "11     49' trước\n",
       "12    16:04 7/11\n",
       "13    14:17 7/11\n",
       "14    12:10 7/11\n",
       "15    12:28 7/11\n",
       "16    14:23 7/11\n",
       "17    12:39 7/11\n",
       "18    11:50 7/11\n",
       "19    13:07 7/11\n",
       "Name: time, dtype: object"
      ]
     },
     "execution_count": 43,
     "metadata": {},
     "output_type": "execute_result"
    }
   ],
   "source": [
    "cmt_time"
   ]
  },
  {
   "cell_type": "code",
   "execution_count": 41,
   "metadata": {},
   "outputs": [
    {
     "data": {
      "text/plain": [
       "['2h', 'trước']"
      ]
     },
     "execution_count": 41,
     "metadata": {},
     "output_type": "execute_result"
    }
   ],
   "source": [
    "cmt_time[0].split()"
   ]
  },
  {
   "cell_type": "markdown",
   "metadata": {},
   "source": [
    "## function for time format \n",
    "for i in range(len(cmt_time)):\n",
    "    result = datetime.datetime.now()\n",
    "    [time, date] = cmt_time[i].split()\n",
    "    if(date == \"trước\"):\n",
    "        now = datetime.datetime.now()\n",
    "        now_time = now.strftime(\"%H\")\n",
    "        now_date = now.strftime(\"%d/%m\")\n",
    "        hour = int(now_time) - int(time[0])\n",
    "        result = datetime.datetime(year = now.year, month = now.month, day = now.day, hour = hour, minute = now.minute )\n",
    "        result = result.strftime(\"%H:%M %d/%m\")\n",
    "        print(result)"
   ]
  },
  {
   "cell_type": "code",
   "execution_count": 55,
   "metadata": {},
   "outputs": [],
   "source": [
    "[time, date] = cmt_time[i].split()"
   ]
  },
  {
   "cell_type": "code",
   "execution_count": 60,
   "metadata": {},
   "outputs": [
    {
     "data": {
      "text/plain": [
       "'2'"
      ]
     },
     "execution_count": 60,
     "metadata": {},
     "output_type": "execute_result"
    }
   ],
   "source": [
    "str(int(time[0]) )"
   ]
  },
  {
   "cell_type": "code",
   "execution_count": 62,
   "metadata": {},
   "outputs": [
    {
     "data": {
      "text/plain": [
       "int"
      ]
     },
     "execution_count": 62,
     "metadata": {},
     "output_type": "execute_result"
    }
   ],
   "source": [
    "type(now.hour)"
   ]
  },
  {
   "cell_type": "code",
   "execution_count": 29,
   "metadata": {},
   "outputs": [],
   "source": [
    "import datetime"
   ]
  },
  {
   "cell_type": "code",
   "execution_count": 33,
   "metadata": {},
   "outputs": [
    {
     "name": "stdout",
     "output_type": "stream",
     "text": [
      "2020-11-09 10:59:37.181508\n"
     ]
    }
   ],
   "source": [
    "now = datetime.datetime.now()\n",
    "print(now)"
   ]
  },
  {
   "cell_type": "code",
   "execution_count": 37,
   "metadata": {},
   "outputs": [
    {
     "data": {
      "text/plain": [
       "'10:59'"
      ]
     },
     "execution_count": 37,
     "metadata": {},
     "output_type": "execute_result"
    }
   ],
   "source": [
    "now_time = now.strftime(\"%H:%M\")\n",
    "now_time"
   ]
  },
  {
   "cell_type": "code",
   "execution_count": 40,
   "metadata": {},
   "outputs": [
    {
     "data": {
      "text/plain": [
       "'09/11'"
      ]
     },
     "execution_count": 40,
     "metadata": {},
     "output_type": "execute_result"
    }
   ],
   "source": [
    "now_date = now.strftime(\"%d/%m\")\n",
    "now_date"
   ]
  }
 ],
 "metadata": {
  "kernelspec": {
   "display_name": "Python 3",
   "language": "python",
   "name": "python3"
  },
  "language_info": {
   "codemirror_mode": {
    "name": "ipython",
    "version": 3
   },
   "file_extension": ".py",
   "mimetype": "text/x-python",
   "name": "python",
   "nbconvert_exporter": "python",
   "pygments_lexer": "ipython3",
   "version": "3.9.0"
  }
 },
 "nbformat": 4,
 "nbformat_minor": 4
}
